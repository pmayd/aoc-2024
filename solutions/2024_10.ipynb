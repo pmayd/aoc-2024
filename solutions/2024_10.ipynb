{
 "cells": [
  {
   "cell_type": "code",
   "execution_count": 16,
   "metadata": {},
   "outputs": [],
   "source": [
    "import re\n",
    "from itertools import zip_longest\n",
    "\n",
    "import numpy as np\n",
    "from aocd.models import Puzzle\n",
    "import pickle\n",
    "import pyperclip\n",
    "\n",
    "from collections import deque"
   ]
  },
  {
   "cell_type": "code",
   "execution_count": 2,
   "metadata": {},
   "outputs": [],
   "source": [
    "year, day = 2024, 10"
   ]
  },
  {
   "cell_type": "code",
   "execution_count": 3,
   "metadata": {},
   "outputs": [],
   "source": [
    "puzzle = Puzzle(year=year, day=day)"
   ]
  },
  {
   "cell_type": "code",
   "execution_count": 4,
   "metadata": {},
   "outputs": [
    {
     "data": {
      "text/plain": [
       "'36'"
      ]
     },
     "execution_count": 4,
     "metadata": {},
     "output_type": "execute_result"
    }
   ],
   "source": [
    "puzzle.examples[0].answer_a"
   ]
  },
  {
   "cell_type": "code",
   "execution_count": 5,
   "metadata": {},
   "outputs": [
    {
     "name": "stdout",
     "output_type": "stream",
     "text": [
      "0123\n",
      "1234\n",
      "8765\n",
      "9876\n"
     ]
    }
   ],
   "source": [
    "example = puzzle.examples[0].input_data\n",
    "print(example)"
   ]
  },
  {
   "cell_type": "code",
   "execution_count": 74,
   "metadata": {},
   "outputs": [],
   "source": [
    "def solution_a(data: str) -> tuple[str, str, int]:\n",
    "    # a good hiking trail is as long as possible and has an even, gradual, uphill slope.\n",
    "    # For all practical purposes, this means that a hiking trail is any path that starts at height 0, \n",
    "    # ends at height 9, and always increases by a height of exactly 1 at each step. \n",
    "    # Hiking trails never include diagonal steps - only up, down, left, or right (from the perspective of the map).\n",
    "    # A trailhead is any position that starts one or more hiking trails - here, \n",
    "    # these positions will always have height 0. \n",
    "    # A trailhead's score is the number of 9-height positions reachable from that trailhead via a hiking trail.\n",
    "    hiking_map = np.array([list(map(int, list(line))) for line in data.splitlines()])\n",
    "    n, c = hiking_map.shape\n",
    "    print(hiking_map)\n",
    "    score = 0\n",
    "    \n",
    "    trailheads = np.argwhere(hiking_map == 0)\n",
    "\n",
    "    def reachable_peaks(start_pos):\n",
    "        peaks = set()\n",
    "        points_to_visit = deque([start_pos])\n",
    "    \n",
    "        while points_to_visit:\n",
    "            current_pos = points_to_visit.pop()\n",
    "            height = hiking_map[tuple(current_pos)]\n",
    "    \n",
    "            for x,y in [(-1,0), (1,0), (0,-1), (0,1)]:\n",
    "                new_pos = current_pos + np.array([x,y])\n",
    "    \n",
    "                if 0 <= new_pos[0] < n and 0 <= new_pos[1] < c:\n",
    "                    if hiking_map[tuple(new_pos)] == 9 and height==8:\n",
    "                        peaks.add(tuple(new_pos))\n",
    "                    elif hiking_map[tuple(new_pos)] == height + 1:\n",
    "                        points_to_visit.append(new_pos)\n",
    "\n",
    "        return peaks\n",
    "\n",
    "    peaks_per_trailhead = [(trailhead, reachable_peaks(trailhead)) for trailhead in trailheads]\n",
    "\n",
    "    # print out reachable peaks\n",
    "    hiking_map = hiking_map.astype(str)\n",
    "    for trailhead, peaks in peaks_per_trailhead:\n",
    "        for peak in peaks:\n",
    "            hiking_map[tuple(peak)] = \"X\"\n",
    "    print(hiking_map)\n",
    "\n",
    "    return sum(len(x[1]) for x in peaks_per_trailhead)"
   ]
  },
  {
   "cell_type": "code",
   "execution_count": 75,
   "metadata": {},
   "outputs": [
    {
     "name": "stdout",
     "output_type": "stream",
     "text": [
      "[[0 1 2 3]\n",
      " [1 2 3 4]\n",
      " [8 7 6 5]\n",
      " [9 8 7 6]]\n",
      "[['0' '1' '2' '3']\n",
      " ['1' '2' '3' '4']\n",
      " ['8' '7' '6' '5']\n",
      " ['X' '8' '7' '6']]\n"
     ]
    },
    {
     "data": {
      "text/plain": [
       "1"
      ]
     },
     "execution_count": 75,
     "metadata": {},
     "output_type": "execute_result"
    }
   ],
   "source": [
    "solution_a(puzzle.examples[0].input_data)"
   ]
  },
  {
   "cell_type": "code",
   "execution_count": 76,
   "metadata": {},
   "outputs": [
    {
     "name": "stdout",
     "output_type": "stream",
     "text": [
      "[[0 1 2 3]\n",
      " [1 2 3 4]\n",
      " [8 7 6 5]\n",
      " [9 8 7 6]]\n",
      "[['0' '1' '2' '3']\n",
      " ['1' '2' '3' '4']\n",
      " ['8' '7' '6' '5']\n",
      " ['X' '8' '7' '6']]\n"
     ]
    }
   ],
   "source": [
    "assert solution_a(puzzle.examples[0].input_data) == 1"
   ]
  },
  {
   "cell_type": "code",
   "execution_count": 77,
   "metadata": {},
   "outputs": [
    {
     "name": "stdout",
     "output_type": "stream",
     "text": [
      "[[3 3 3 0 3 3 3]\n",
      " [3 3 3 1 3 3 3]\n",
      " [3 3 3 2 3 3 3]\n",
      " [6 5 4 3 4 5 6]\n",
      " [7 3 3 3 3 3 7]\n",
      " [8 3 3 3 3 3 8]\n",
      " [9 3 3 3 3 3 9]]\n",
      "[['3' '3' '3' '0' '3' '3' '3']\n",
      " ['3' '3' '3' '1' '3' '3' '3']\n",
      " ['3' '3' '3' '2' '3' '3' '3']\n",
      " ['6' '5' '4' '3' '4' '5' '6']\n",
      " ['7' '3' '3' '3' '3' '3' '7']\n",
      " ['8' '3' '3' '3' '3' '3' '8']\n",
      " ['X' '3' '3' '3' '3' '3' 'X']]\n"
     ]
    }
   ],
   "source": [
    "input_ = \"\"\"...0...\n",
    "...1...\n",
    "...2...\n",
    "6543456\n",
    "7.....7\n",
    "8.....8\n",
    "9.....9\"\"\".replace(\".\",\"3\")\n",
    "assert solution_a(input_) == 2"
   ]
  },
  {
   "cell_type": "code",
   "execution_count": 78,
   "metadata": {},
   "outputs": [
    {
     "name": "stdout",
     "output_type": "stream",
     "text": [
      "[[3 3 9 0 3 3 9]\n",
      " [3 3 3 1 3 9 8]\n",
      " [3 3 3 2 3 3 7]\n",
      " [6 5 4 3 4 5 6]\n",
      " [7 6 5 3 9 8 7]\n",
      " [8 7 6 3 3 3 3]\n",
      " [9 8 7 3 3 3 3]]\n",
      "[['3' '3' '9' '0' '3' '3' 'X']\n",
      " ['3' '3' '3' '1' '3' 'X' '8']\n",
      " ['3' '3' '3' '2' '3' '3' '7']\n",
      " ['6' '5' '4' '3' '4' '5' '6']\n",
      " ['7' '6' '5' '3' 'X' '8' '7']\n",
      " ['8' '7' '6' '3' '3' '3' '3']\n",
      " ['X' '8' '7' '3' '3' '3' '3']]\n"
     ]
    }
   ],
   "source": [
    "input_ = \"\"\"..90..9\n",
    "...1.98\n",
    "...2..7\n",
    "6543456\n",
    "765.987\n",
    "876....\n",
    "987....\"\"\".replace(\".\", \"3\")\n",
    "assert solution_a(input_) == 4"
   ]
  },
  {
   "cell_type": "code",
   "execution_count": 80,
   "metadata": {},
   "outputs": [
    {
     "name": "stdout",
     "output_type": "stream",
     "text": [
      "[[8 9 0 1 0 1 2 3]\n",
      " [7 8 1 2 1 8 7 4]\n",
      " [8 7 4 3 0 9 6 5]\n",
      " [9 6 5 4 9 8 7 4]\n",
      " [4 5 6 7 8 9 0 3]\n",
      " [3 2 0 1 9 0 1 2]\n",
      " [0 1 3 2 9 8 0 1]\n",
      " [1 0 4 5 6 7 3 2]]\n",
      "[['8' 'X' '0' '1' '0' '1' '2' '3']\n",
      " ['7' '8' '1' '2' '1' '8' '7' '4']\n",
      " ['8' '7' '4' '3' '0' 'X' '6' '5']\n",
      " ['X' '6' '5' '4' 'X' '8' '7' '4']\n",
      " ['4' '5' '6' '7' '8' 'X' '0' '3']\n",
      " ['3' '2' '0' '1' 'X' '0' '1' '2']\n",
      " ['0' '1' '3' '2' 'X' '8' '0' '1']\n",
      " ['1' '0' '4' '5' '6' '7' '3' '2']]\n"
     ]
    },
    {
     "data": {
      "text/plain": [
       "True"
      ]
     },
     "execution_count": 80,
     "metadata": {},
     "output_type": "execute_result"
    }
   ],
   "source": [
    "input_ = \"\"\"89010123\n",
    "78121874\n",
    "87430965\n",
    "96549874\n",
    "45678903\n",
    "32019012\n",
    "01329801\n",
    "10456732\"\"\"\n",
    "solution_a(input_) == 36"
   ]
  },
  {
   "cell_type": "code",
   "execution_count": 81,
   "metadata": {},
   "outputs": [
    {
     "name": "stdout",
     "output_type": "stream",
     "text": [
      "[[1 4 5 ... 0 3 6]\n",
      " [0 3 4 ... 1 4 5]\n",
      " [1 2 5 ... 2 3 4]\n",
      " ...\n",
      " [2 9 6 ... 6 5 0]\n",
      " [1 2 5 ... 7 8 9]\n",
      " [0 3 4 ... 6 7 8]]\n",
      "[['1' '4' '5' ... '0' '3' '6']\n",
      " ['0' '3' '4' ... '1' '4' '5']\n",
      " ['1' '2' '5' ... '2' '3' '4']\n",
      " ...\n",
      " ['2' 'X' '6' ... '6' '5' '0']\n",
      " ['1' '2' '5' ... '7' '8' 'X']\n",
      " ['0' '3' '4' ... '6' '7' '8']]\n"
     ]
    }
   ],
   "source": [
    "answer_a = solution_a(puzzle.input_data)"
   ]
  },
  {
   "cell_type": "code",
   "execution_count": 128,
   "metadata": {},
   "outputs": [
    {
     "data": {
      "text/plain": [
       "6200294120911"
      ]
     },
     "execution_count": 128,
     "metadata": {},
     "output_type": "execute_result"
    }
   ],
   "source": [
    "answer_a[2]"
   ]
  },
  {
   "cell_type": "code",
   "execution_count": 82,
   "metadata": {},
   "outputs": [
    {
     "name": "stdout",
     "output_type": "stream",
     "text": [
      "\u001b[32mThat's the right answer!  You are one gold star closer to finding the Chief Historian. [Continue to Part Two]\u001b[0m\n"
     ]
    }
   ],
   "source": [
    "puzzle.answer_a = answer_a"
   ]
  },
  {
   "cell_type": "markdown",
   "metadata": {},
   "source": [
    "## Part Two\n"
   ]
  },
  {
   "cell_type": "code",
   "execution_count": 162,
   "metadata": {},
   "outputs": [],
   "source": [
    "small_example = \"\"\"T.........\n",
    "...T......\n",
    ".T........\n",
    "..........\n",
    "..........\n",
    "..........\n",
    "..........\n",
    "..........\n",
    "..........\n",
    "..........\"\"\""
   ]
  },
  {
   "cell_type": "code",
   "execution_count": 166,
   "metadata": {},
   "outputs": [],
   "source": [
    "def solution_b(data: str) -> tuple[str, str, int]:\n",
    "    # This time, attempt to move whole files to the leftmost span of free space blocks\n",
    "    # that could fit the file. Attempt to move each file exactly once\n",
    "    # in order of decreasing file ID number starting with the file with the highest file ID number. \n",
    "    # If there is no span of free space to the left of a file that is large enough to fit the file,\n",
    "    # the file does not move.\n",
    "    file_blocks = list(map(int, data[::2]))\n",
    "    free_space_blocks = list(map(int, data[1::2]))\n",
    "    FRAGMENTED_PATTERN = re.compile(r\"\\d\\.+\\d\")\n",
    "\n",
    "    block_representation = []\n",
    "\n",
    "    for i, (file_block, free_space_block) in enumerate(\n",
    "        zip_longest(file_blocks, free_space_blocks)\n",
    "    ):\n",
    "        if file_block:\n",
    "            block_representation.append((i, file_block))\n",
    "\n",
    "        if free_space_block:\n",
    "            block_representation.append((\".\", free_space_block))\n",
    "\n",
    "    # block_representation looks like [(0, 4), (., 3), (1, 4), (., 1)] = 4341\n",
    "\n",
    "    str_block_representation = \"\".join(\"\".join(str(x[0]) * x[1]) for x in block_representation)\n",
    "\n",
    "    # continue defragmenting until all gaps are closes\n",
    "    ordered_block_representation = block_representation.copy()\n",
    "    \n",
    "    # go through all file blocks from end to beginning\n",
    "    right_pos = len(ordered_block_representation) - 1\n",
    "    while right_pos > 0:\n",
    "        # find next file block from end\n",
    "        # at the end first block with pos 0 is always != \".\"\n",
    "        while True:\n",
    "            right = ordered_block_representation[right_pos]\n",
    "            if right[0] != \".\":\n",
    "                break\n",
    "            right_pos -= 1\n",
    "        \n",
    "        # find next free space block from beginning that can hold file block\n",
    "        left_pos = 0\n",
    "        while left_pos < right_pos:\n",
    "            left = ordered_block_representation[left_pos]\n",
    "            if left[0] == \".\" and left[1] >= right[1]:\n",
    "                break\n",
    "            left_pos += 1\n",
    "\n",
    "        # if we cannot find a free space block, move to the next file block\n",
    "        if left_pos >= right_pos:\n",
    "            right_pos -= 1\n",
    "            continue               \n",
    "\n",
    "        # move whole file block into free space\n",
    "        space_diff = left[1] - right[1]\n",
    "        if space_diff == 0:\n",
    "            ordered_block_representation[left_pos] = (right[0], right[1])\n",
    "        elif space_diff > 0:\n",
    "            ordered_block_representation[left_pos] = (right[0], right[1])\n",
    "            ordered_block_representation.insert(left_pos + 1, (\".\", space_diff))\n",
    "            right_pos += 1 # we inserted one element\n",
    "\n",
    "        # by moving the whole block, we free the space at the original place\n",
    "        ordered_block_representation[right_pos] = (\".\", right[1])\n",
    "        \n",
    "    str_ordered_block_representation = \"\".join(\"\".join(str(x[0]) * x[1]) for x in ordered_block_representation)\n",
    "    \n",
    "    checksum = 0\n",
    "    pos = 0\n",
    "    for block in ordered_block_representation:\n",
    "        if block[0] == \".\":\n",
    "            pos += block[1]\n",
    "            continue\n",
    "        for _ in range(block[1]):\n",
    "            checksum += block[0] * pos\n",
    "            pos += 1\n",
    "\n",
    "    return str_block_representation, str_ordered_block_representation, checksum"
   ]
  },
  {
   "cell_type": "code",
   "execution_count": 167,
   "metadata": {},
   "outputs": [
    {
     "data": {
      "text/plain": [
       "('00...111...2...333.44.5555.6666.777.888899',\n",
       " '00992111777.44.333....5555.6666.....8888..',\n",
       " 2858)"
      ]
     },
     "execution_count": 167,
     "metadata": {},
     "output_type": "execute_result"
    }
   ],
   "source": [
    "solution_b(puzzle.examples[0].input_data)"
   ]
  },
  {
   "cell_type": "code",
   "execution_count": 165,
   "metadata": {
    "scrolled": true
   },
   "outputs": [
    {
     "name": "stdout",
     "output_type": "stream",
     "text": [
      "00...111...2...333.44.5555.6666.777.888899\n",
      "0099.111...2...333.44.5555.6666.777.8888..\n",
      "0099.111...2...333.44.5555.6666.777.8888..\n",
      "0099.1117772...333.44.5555.6666.....8888..\n",
      "0099.1117772...333.44.5555.6666.....8888..\n",
      "0099.1117772...333.44.5555.6666.....8888..\n",
      "0099.111777244.333....5555.6666.....8888..\n",
      "0099.111777244.333....5555.6666.....8888..\n",
      "0099.111777244.333....5555.6666.....8888..\n",
      "00992111777.44.333....5555.6666.....8888..\n",
      "00992111777.44.333....5555.6666.....8888..\n",
      "00992111777.44.333....5555.6666.....8888..\n",
      "00992111777.44.333....5555.6666.....8888..\n"
     ]
    },
    {
     "data": {
      "text/plain": [
       "True"
      ]
     },
     "execution_count": 165,
     "metadata": {},
     "output_type": "execute_result"
    }
   ],
   "source": [
    "solution_b(puzzle.examples[0].input_data)[1].strip(\".\") == \"00992111777.44.333....5555.6666.....8888\""
   ]
  },
  {
   "cell_type": "code",
   "execution_count": 168,
   "metadata": {},
   "outputs": [],
   "source": [
    "assert solution_b(puzzle.examples[0].input_data)[2] == 2858"
   ]
  },
  {
   "cell_type": "code",
   "execution_count": null,
   "metadata": {},
   "outputs": [],
   "source": [
    "answer_b = solution_b(puzzle.input_data)\n",
    "answer_b"
   ]
  },
  {
   "cell_type": "code",
   "execution_count": 170,
   "metadata": {},
   "outputs": [
    {
     "name": "stdout",
     "output_type": "stream",
     "text": [
      "\u001b[32mThat's the right answer!  You are one gold star closer to finding the Chief Historian.You have completed Day 9! You can [Shareon\n",
      "  Bluesky\n",
      "Twitter\n",
      "Mastodon] this victory or [Return to Your Advent Calendar].\u001b[0m\n"
     ]
    }
   ],
   "source": [
    "puzzle.answer_b = answer_b[2]"
   ]
  }
 ],
 "metadata": {
  "kernelspec": {
   "display_name": "Python 3 (ipykernel)",
   "language": "python",
   "name": "python3"
  },
  "language_info": {
   "codemirror_mode": {
    "name": "ipython",
    "version": 3
   },
   "file_extension": ".py",
   "mimetype": "text/x-python",
   "name": "python",
   "nbconvert_exporter": "python",
   "pygments_lexer": "ipython3",
   "version": "3.10.14"
  },
  "widgets": {
   "application/vnd.jupyter.widget-state+json": {
    "state": {},
    "version_major": 2,
    "version_minor": 0
   }
  }
 },
 "nbformat": 4,
 "nbformat_minor": 4
}
