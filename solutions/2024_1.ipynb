{
 "cells": [
  {
   "cell_type": "code",
   "execution_count": 4,
   "metadata": {},
   "outputs": [],
   "source": [
    "import aocd\n",
    "from aocd.models import Puzzle\n",
    "import pandas as pd\n",
    "import numpy as np"
   ]
  },
  {
   "cell_type": "code",
   "execution_count": 2,
   "metadata": {},
   "outputs": [],
   "source": [
    "year, day = 2024, 1"
   ]
  },
  {
   "cell_type": "code",
   "execution_count": 3,
   "metadata": {},
   "outputs": [],
   "source": [
    "puzzle = Puzzle(year=year, day=1)"
   ]
  },
  {
   "cell_type": "code",
   "execution_count": 4,
   "metadata": {},
   "outputs": [
    {
     "data": {
      "text/plain": [
       "Example(input_data='3   4\\n4   3\\n2   5\\n1   3\\n3   9\\n3   3', answer_a='11', answer_b='9', extra=None)"
      ]
     },
     "execution_count": 4,
     "metadata": {},
     "output_type": "execute_result"
    }
   ],
   "source": [
    "puzzle.examples[0]"
   ]
  },
  {
   "cell_type": "code",
   "execution_count": 11,
   "metadata": {},
   "outputs": [],
   "source": [
    "def solution_a(puzzle, data):\n",
    "    df = pd.DataFrame([l.split() for l in data.splitlines()], columns=[\"g1\", \"g2\"])\n",
    "    df[\"g1\"] = df[\"g1\"].astype(int)\n",
    "    df[\"g2\"] = df[\"g2\"].astype(int)\n",
    "    df.loc[:, \"g1\"] = df[\"g1\"].sort_values(ignore_index=True)\n",
    "    df.loc[:, \"g2\"] = df[\"g2\"].sort_values(ignore_index=True)\n",
    "    df[\"diff\"] = abs(df[\"g2\"] - df[\"g1\"])\n",
    "    return df[\"diff\"].sum()"
   ]
  },
  {
   "cell_type": "code",
   "execution_count": 12,
   "metadata": {},
   "outputs": [],
   "source": [
    "assert solution_a(puzzle, puzzle.examples[0].input_data) == int(\n",
    "    puzzle.examples[0].answer_a\n",
    ")"
   ]
  },
  {
   "cell_type": "code",
   "execution_count": 13,
   "metadata": {},
   "outputs": [
    {
     "data": {
      "text/plain": [
       "np.int64(2285373)"
      ]
     },
     "execution_count": 13,
     "metadata": {},
     "output_type": "execute_result"
    }
   ],
   "source": [
    "solution_a = solution_a(puzzle, puzzle.input_data)\n",
    "solution_a"
   ]
  },
  {
   "cell_type": "code",
   "execution_count": 14,
   "metadata": {},
   "outputs": [
    {
     "name": "stderr",
     "output_type": "stream",
     "text": [
      "coerced int64 value np.int64(2285373) for 2024/01 to '2285373'\n"
     ]
    },
    {
     "name": "stdout",
     "output_type": "stream",
     "text": [
      "Part a already solved with same answer: 2285373\n"
     ]
    }
   ],
   "source": [
    "aocd.submit(solution_a, part=\"a\", day=day, year=year)"
   ]
  },
  {
   "cell_type": "markdown",
   "metadata": {},
   "source": [
    "## Part Two\n"
   ]
  },
  {
   "cell_type": "code",
   "execution_count": 5,
   "metadata": {},
   "outputs": [],
   "source": [
    "def solution_b(puzzle, data):\n",
    "    df = pd.DataFrame([l.split() for l in data.splitlines()], columns=[\"g1\", \"g2\"])\n",
    "    df[\"g1\"] = df[\"g1\"].astype(int)\n",
    "    df[\"g2\"] = df[\"g2\"].astype(int)\n",
    "    count = []\n",
    "    for x in df[\"g1\"]:\n",
    "        count.append(x * df[\"g2\"].eq(x).sum())\n",
    "    return np.sum(count)"
   ]
  },
  {
   "cell_type": "code",
   "execution_count": 10,
   "metadata": {},
   "outputs": [
    {
     "data": {
      "text/plain": [
       "(np.int64(31), '9')"
      ]
     },
     "execution_count": 10,
     "metadata": {},
     "output_type": "execute_result"
    }
   ],
   "source": [
    "solution_b(puzzle, puzzle.examples[0].input_data), puzzle.examples[0].answer_b"
   ]
  },
  {
   "cell_type": "code",
   "execution_count": 11,
   "metadata": {},
   "outputs": [],
   "source": [
    "solution_b = solution_b(puzzle, puzzle.input_data)\n"
   ]
  },
  {
   "cell_type": "code",
   "execution_count": 13,
   "metadata": {},
   "outputs": [
    {
     "data": {
      "text/plain": [
       "np.int64(21142653)"
      ]
     },
     "execution_count": 13,
     "metadata": {},
     "output_type": "execute_result"
    }
   ],
   "source": [
    "solution_b\n"
   ]
  },
  {
   "cell_type": "code",
   "execution_count": 14,
   "metadata": {},
   "outputs": [
    {
     "name": "stderr",
     "output_type": "stream",
     "text": [
      "coerced int64 value np.int64(21142653) for 2024/01 to '21142653'\n"
     ]
    },
    {
     "name": "stdout",
     "output_type": "stream",
     "text": [
      "\u001b[32mThat's the right answer!  You are one gold star closer to finding the Chief Historian.You have completed Day 1! You can [Shareon\n",
      "  Bluesky\n",
      "Twitter\n",
      "Mastodon] this victory or [Return to Your Advent Calendar].\u001b[0m\n"
     ]
    },
    {
     "data": {
      "text/plain": [
       "<urllib3.response.HTTPResponse at 0x108cbc190>"
      ]
     },
     "execution_count": 14,
     "metadata": {},
     "output_type": "execute_result"
    }
   ],
   "source": [
    "aocd.submit(solution_b, part=\"b\", day=day, year=year)\n"
   ]
  }
 ],
 "metadata": {
  "kernelspec": {
   "display_name": ".venv",
   "language": "python",
   "name": "python3"
  },
  "language_info": {
   "codemirror_mode": {
    "name": "ipython",
    "version": 3
   },
   "file_extension": ".py",
   "mimetype": "text/x-python",
   "name": "python",
   "nbconvert_exporter": "python",
   "pygments_lexer": "ipython3",
   "version": "3.10.14"
  }
 },
 "nbformat": 4,
 "nbformat_minor": 2
}
