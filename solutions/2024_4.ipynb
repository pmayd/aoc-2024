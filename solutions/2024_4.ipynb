{
 "cells": [
  {
   "cell_type": "code",
   "execution_count": 162,
   "metadata": {},
   "outputs": [],
   "source": [
    "import aocd\n",
    "from aocd.models import Puzzle\n",
    "import pandas as pd\n",
    "import numpy as np\n",
    "import re\n",
    "from itertools import product"
   ]
  },
  {
   "cell_type": "code",
   "execution_count": 2,
   "metadata": {},
   "outputs": [],
   "source": [
    "year, day = 2024, 4"
   ]
  },
  {
   "cell_type": "code",
   "execution_count": 3,
   "metadata": {},
   "outputs": [],
   "source": [
    "puzzle = Puzzle(year=year, day=day)"
   ]
  },
  {
   "cell_type": "code",
   "execution_count": 4,
   "metadata": {},
   "outputs": [
    {
     "name": "stdout",
     "output_type": "stream",
     "text": [
      "..X...\n",
      ".SAMX.\n",
      ".A..A.\n",
      "XMAS.S\n",
      ".X....\n"
     ]
    }
   ],
   "source": [
    "print(puzzle.examples[0].input_data)"
   ]
  },
  {
   "cell_type": "code",
   "execution_count": 5,
   "metadata": {},
   "outputs": [
    {
     "data": {
      "text/plain": [
       "'..X... .SAMX. .A..A. XMAS.S .X....'"
      ]
     },
     "execution_count": 5,
     "metadata": {},
     "output_type": "execute_result"
    }
   ],
   "source": [
    "puzzle.examples[0].input_data.replace(\"\\n\", \" \")"
   ]
  },
  {
   "cell_type": "code",
   "execution_count": 6,
   "metadata": {},
   "outputs": [],
   "source": [
    "example = \"\"\"MMMSXXMASM\n",
    "MSAMXMSMSA\n",
    "AMXSXMAAMM\n",
    "MSAMASMSMX\n",
    "XMASAMXAMM\n",
    "XXAMMXXAMA\n",
    "SMSMSASXSS\n",
    "SAXAMASAAA\n",
    "MAMMMXMMMM\n",
    "MXMXAXMASX\"\"\""
   ]
  },
  {
   "cell_type": "code",
   "execution_count": 7,
   "metadata": {},
   "outputs": [
    {
     "data": {
      "text/plain": [
       "'MSXMAXSAMX'"
      ]
     },
     "execution_count": 7,
     "metadata": {},
     "output_type": "execute_result"
    }
   ],
   "source": [
    "example.replace(\"\\n\", \"\")\n",
    "# take every xth word from example:\n",
    "\"\".join(islice(example.replace(\"\\n\", \"\"), 0, None, len(example.splitlines()[0]) + 1))"
   ]
  },
  {
   "cell_type": "code",
   "execution_count": 127,
   "metadata": {},
   "outputs": [],
   "source": [
    "def solution_a(data) -> int:\n",
    "    # we can simplify this puzzle\n",
    "    # by making a single string out of the text\n",
    "    # and search for 4 patterns:\n",
    "    # XMAS and SAMX in direct order\n",
    "    # X M A S or S A M X with a fixed distance of line length\n",
    "    # which means the word is written up or down\n",
    "    # and the last pattern is a diagonal pattern\n",
    "    # which means the distance between the latters is changing by 1\n",
    "    word = \"XMAS\"\n",
    "    grid = np.array([list(row) for row in data.splitlines()])\n",
    "    n, c = np.array(grid.shape)\n",
    "    matched_letters = []\n",
    "    xmas_count = 0\n",
    "\n",
    "    # Count occurrences in rows (horizontal, left-to-right and right-to-left)\n",
    "    for row in grid:\n",
    "        row_str = \"\".join(row)\n",
    "        xmas_count += row_str.count(word)\n",
    "        xmas_count += row_str[::-1].count(word)\n",
    "\n",
    "    # Count occurrences in columns (vertical, top-to-bottom and bottom-to-top)\n",
    "    for col in range(n):\n",
    "        column = \"\".join(grid[:, col])\n",
    "        xmas_count += column.count(word)\n",
    "        xmas_count += column[::-1].count(word)\n",
    "\n",
    "    def get_diagonal_left_to_right(start_row, start_col):\n",
    "        diagonal = []\n",
    "        row, col = start_row, start_col\n",
    "        for _ in range(len(word)):\n",
    "            diagonal.append(grid[row][col])\n",
    "            row += 1\n",
    "            col += 1\n",
    "\n",
    "            if row == n or col == c:\n",
    "                break\n",
    "                \n",
    "        return \"\".join(diagonal)\n",
    "\n",
    "    def get_diagonal_right_to_left(start_row, start_col):\n",
    "        diagonal = []\n",
    "        row, col = start_row, start_col\n",
    "        for _ in range(len(word)):\n",
    "            diagonal.append(grid[row][col])\n",
    "            row += 1\n",
    "            col -= 1\n",
    "\n",
    "            if row == n or col == -1:\n",
    "                break\n",
    "        \n",
    "        return \"\".join(diagonal)\n",
    "\n",
    "    for row in range(n):\n",
    "        for col in range(c):\n",
    "            diagonal = get_diagonal_left_to_right(row, col)\n",
    "            # print(diagonal)\n",
    "            xmas_count += diagonal.count(word)\n",
    "            xmas_count += diagonal[::-1].count(word)\n",
    "\n",
    "            diagonal = get_diagonal_right_to_left(row, col)\n",
    "            xmas_count += diagonal.count(word)\n",
    "            xmas_count += diagonal[::-1].count(word)    \n",
    "    \n",
    "    return xmas_count\n"
   ]
  },
  {
   "cell_type": "code",
   "execution_count": 128,
   "metadata": {},
   "outputs": [
    {
     "data": {
      "text/plain": [
       "4"
      ]
     },
     "execution_count": 128,
     "metadata": {},
     "output_type": "execute_result"
    }
   ],
   "source": [
    "solution_a(puzzle.examples[0].input_data)"
   ]
  },
  {
   "cell_type": "code",
   "execution_count": 129,
   "metadata": {},
   "outputs": [
    {
     "data": {
      "text/plain": [
       "18"
      ]
     },
     "execution_count": 129,
     "metadata": {},
     "output_type": "execute_result"
    }
   ],
   "source": [
    "solution_a(example)"
   ]
  },
  {
   "cell_type": "code",
   "execution_count": 130,
   "metadata": {},
   "outputs": [],
   "source": [
    "assert solution_a(example) == 18"
   ]
  },
  {
   "cell_type": "code",
   "execution_count": 131,
   "metadata": {},
   "outputs": [
    {
     "data": {
      "text/plain": [
       "(140, 140)"
      ]
     },
     "execution_count": 131,
     "metadata": {},
     "output_type": "execute_result"
    }
   ],
   "source": [
    "len(puzzle.input_data.splitlines()), len(puzzle.input_data.splitlines()[0])"
   ]
  },
  {
   "cell_type": "code",
   "execution_count": 132,
   "metadata": {},
   "outputs": [
    {
     "data": {
      "text/plain": [
       "3"
      ]
     },
     "execution_count": 132,
     "metadata": {},
     "output_type": "execute_result"
    }
   ],
   "source": [
    "solution_a(\"\\n\".join([\".X..XX\", \"X.X.XM\", \".M.MA.\", \"ASASA.\", \".S.S.S\", \".....S\"]))"
   ]
  },
  {
   "cell_type": "code",
   "execution_count": 133,
   "metadata": {},
   "outputs": [
    {
     "data": {
      "text/plain": [
       "2397"
      ]
     },
     "execution_count": 133,
     "metadata": {},
     "output_type": "execute_result"
    }
   ],
   "source": [
    "answer_a = solution_a(puzzle.input_data)\n",
    "answer_a"
   ]
  },
  {
   "cell_type": "code",
   "execution_count": 134,
   "metadata": {},
   "outputs": [
    {
     "name": "stdout",
     "output_type": "stream",
     "text": [
      "\u001b[32mThat's the right answer!  You are one gold star closer to finding the Chief Historian. [Continue to Part Two]\u001b[0m\n"
     ]
    }
   ],
   "source": [
    "puzzle.answer_a = answer_a"
   ]
  },
  {
   "cell_type": "markdown",
   "metadata": {},
   "source": [
    "## Part Two\n"
   ]
  },
  {
   "cell_type": "code",
   "execution_count": 135,
   "metadata": {},
   "outputs": [
    {
     "data": {
      "text/plain": [
       "[Example(input_data='..X...\\n.SAMX.\\n.A..A.\\nXMAS.S\\n.X....', answer_a='XMAS', answer_b=None, extra=None)]"
      ]
     },
     "execution_count": 135,
     "metadata": {},
     "output_type": "execute_result"
    }
   ],
   "source": [
    "puzzle.examples"
   ]
  },
  {
   "cell_type": "code",
   "execution_count": 174,
   "metadata": {},
   "outputs": [],
   "source": [
    "def solution_b(data):\n",
    "    # The problem is somewhat easier now\n",
    "    # we only need to search in four adjacent fields around X\n",
    "    # basically left top corner, right top corner, left bottom corner and right bottom corner\n",
    "    # if two of the diagonals read MAS in any direction we have a match\n",
    "    word = \"MAS\"\n",
    "    grid = np.array([list(row) for row in data.splitlines()])\n",
    "    n, c = np.array(grid.shape)\n",
    "    print(n,c)\n",
    "    xmas_count = 0\n",
    "\n",
    "    def check_for_xmas(start_row, start_col) -> bool:\n",
    "        if grid[start_row, start_col] != \"A\":\n",
    "            return False\n",
    "            \n",
    "        row, col = start_row, start_col\n",
    "\n",
    "        if start_row - 1 < 0 or start_row + 1 > n:\n",
    "            return False\n",
    "        if start_col - 1 < 0 or start_col + 1 > n:\n",
    "            return False\n",
    "\n",
    "        left_to_right_diagonal = [grid[row-1, col-1], grid[row, col], grid[row+1, col+1]]\n",
    "        right_to_left_diagonal = [grid[row+1, col-1], grid[row, col], grid[row-1, col+1]]\n",
    "\n",
    "        diagonal1 = \"\".join(left_to_right_diagonal)\n",
    "        diagonal2 = \"\".join(right_to_left_diagonal)        \n",
    "\n",
    "        return (diagonal1 == word or diagonal1[::-1] == word) and (diagonal2 == word or diagonal2[::-1] == word)\n",
    "    \n",
    "    return sum(check_for_xmas(x,y) for x,y in product(range(n), range(c)))\n"
   ]
  },
  {
   "cell_type": "code",
   "execution_count": 175,
   "metadata": {},
   "outputs": [
    {
     "name": "stdout",
     "output_type": "stream",
     "text": [
      "3 3\n"
     ]
    },
    {
     "data": {
      "text/plain": [
       "1"
      ]
     },
     "execution_count": 175,
     "metadata": {},
     "output_type": "execute_result"
    }
   ],
   "source": [
    "example_input_b = \"\"\"M.M\n",
    ".A.\n",
    "S.S\"\"\"\n",
    "\n",
    "solution_b(example_input_b)"
   ]
  },
  {
   "cell_type": "code",
   "execution_count": 176,
   "metadata": {},
   "outputs": [
    {
     "name": "stdout",
     "output_type": "stream",
     "text": [
      "10 10\n"
     ]
    },
    {
     "data": {
      "text/plain": [
       "9"
      ]
     },
     "execution_count": 176,
     "metadata": {},
     "output_type": "execute_result"
    }
   ],
   "source": [
    "example_input_b = \"\"\".M.S......\n",
    "..A..MSMS.\n",
    ".M.S.MAA..\n",
    "..A.ASMSM.\n",
    ".M.S.M....\n",
    "..........\n",
    "S.S.S.S.S.\n",
    ".A.A.A.A..\n",
    "M.M.M.M.M.\n",
    "..........\"\"\"\n",
    "\n",
    "solution_b(example_input_b)"
   ]
  },
  {
   "cell_type": "code",
   "execution_count": 172,
   "metadata": {},
   "outputs": [],
   "source": [
    "assert solution_b(example_input_b) == 9"
   ]
  },
  {
   "cell_type": "code",
   "execution_count": 177,
   "metadata": {},
   "outputs": [
    {
     "name": "stdout",
     "output_type": "stream",
     "text": [
      "140 140\n"
     ]
    },
    {
     "ename": "IndexError",
     "evalue": "index 140 is out of bounds for axis 1 with size 140",
     "output_type": "error",
     "traceback": [
      "\u001b[0;31m---------------------------------------------------------------------------\u001b[0m",
      "\u001b[0;31mIndexError\u001b[0m                                Traceback (most recent call last)",
      "Cell \u001b[0;32mIn[177], line 1\u001b[0m\n\u001b[0;32m----> 1\u001b[0m answer_b \u001b[38;5;241m=\u001b[39m \u001b[43msolution_b\u001b[49m\u001b[43m(\u001b[49m\u001b[43mpuzzle\u001b[49m\u001b[38;5;241;43m.\u001b[39;49m\u001b[43minput_data\u001b[49m\u001b[43m)\u001b[49m\n\u001b[1;32m      2\u001b[0m answer_b\n",
      "Cell \u001b[0;32mIn[174], line 31\u001b[0m, in \u001b[0;36msolution_b\u001b[0;34m(data)\u001b[0m\n\u001b[1;32m     27\u001b[0m     diagonal2 \u001b[38;5;241m=\u001b[39m \u001b[38;5;124m\"\u001b[39m\u001b[38;5;124m\"\u001b[39m\u001b[38;5;241m.\u001b[39mjoin(right_to_left_diagonal)        \n\u001b[1;32m     29\u001b[0m     \u001b[38;5;28;01mreturn\u001b[39;00m (diagonal1 \u001b[38;5;241m==\u001b[39m word \u001b[38;5;129;01mor\u001b[39;00m diagonal1[::\u001b[38;5;241m-\u001b[39m\u001b[38;5;241m1\u001b[39m] \u001b[38;5;241m==\u001b[39m word) \u001b[38;5;129;01mand\u001b[39;00m (diagonal2 \u001b[38;5;241m==\u001b[39m word \u001b[38;5;129;01mor\u001b[39;00m diagonal2[::\u001b[38;5;241m-\u001b[39m\u001b[38;5;241m1\u001b[39m] \u001b[38;5;241m==\u001b[39m word)\n\u001b[0;32m---> 31\u001b[0m \u001b[38;5;28;01mreturn\u001b[39;00m \u001b[38;5;28;43msum\u001b[39;49m\u001b[43m(\u001b[49m\u001b[43mcheck_for_xmas\u001b[49m\u001b[43m(\u001b[49m\u001b[43mx\u001b[49m\u001b[43m,\u001b[49m\u001b[43my\u001b[49m\u001b[43m)\u001b[49m\u001b[43m \u001b[49m\u001b[38;5;28;43;01mfor\u001b[39;49;00m\u001b[43m \u001b[49m\u001b[43mx\u001b[49m\u001b[43m,\u001b[49m\u001b[43my\u001b[49m\u001b[43m \u001b[49m\u001b[38;5;129;43;01min\u001b[39;49;00m\u001b[43m \u001b[49m\u001b[43mproduct\u001b[49m\u001b[43m(\u001b[49m\u001b[38;5;28;43mrange\u001b[39;49m\u001b[43m(\u001b[49m\u001b[43mn\u001b[49m\u001b[43m)\u001b[49m\u001b[43m,\u001b[49m\u001b[43m \u001b[49m\u001b[38;5;28;43mrange\u001b[39;49m\u001b[43m(\u001b[49m\u001b[43mc\u001b[49m\u001b[43m)\u001b[49m\u001b[43m)\u001b[49m\u001b[43m)\u001b[49m\n",
      "Cell \u001b[0;32mIn[174], line 31\u001b[0m, in \u001b[0;36m<genexpr>\u001b[0;34m(.0)\u001b[0m\n\u001b[1;32m     27\u001b[0m     diagonal2 \u001b[38;5;241m=\u001b[39m \u001b[38;5;124m\"\u001b[39m\u001b[38;5;124m\"\u001b[39m\u001b[38;5;241m.\u001b[39mjoin(right_to_left_diagonal)        \n\u001b[1;32m     29\u001b[0m     \u001b[38;5;28;01mreturn\u001b[39;00m (diagonal1 \u001b[38;5;241m==\u001b[39m word \u001b[38;5;129;01mor\u001b[39;00m diagonal1[::\u001b[38;5;241m-\u001b[39m\u001b[38;5;241m1\u001b[39m] \u001b[38;5;241m==\u001b[39m word) \u001b[38;5;129;01mand\u001b[39;00m (diagonal2 \u001b[38;5;241m==\u001b[39m word \u001b[38;5;129;01mor\u001b[39;00m diagonal2[::\u001b[38;5;241m-\u001b[39m\u001b[38;5;241m1\u001b[39m] \u001b[38;5;241m==\u001b[39m word)\n\u001b[0;32m---> 31\u001b[0m \u001b[38;5;28;01mreturn\u001b[39;00m \u001b[38;5;28msum\u001b[39m(\u001b[43mcheck_for_xmas\u001b[49m\u001b[43m(\u001b[49m\u001b[43mx\u001b[49m\u001b[43m,\u001b[49m\u001b[43my\u001b[49m\u001b[43m)\u001b[49m \u001b[38;5;28;01mfor\u001b[39;00m x,y \u001b[38;5;129;01min\u001b[39;00m product(\u001b[38;5;28mrange\u001b[39m(n), \u001b[38;5;28mrange\u001b[39m(c)))\n",
      "Cell \u001b[0;32mIn[174], line 23\u001b[0m, in \u001b[0;36msolution_b.<locals>.check_for_xmas\u001b[0;34m(start_row, start_col)\u001b[0m\n\u001b[1;32m     20\u001b[0m \u001b[38;5;28;01mif\u001b[39;00m start_col \u001b[38;5;241m-\u001b[39m \u001b[38;5;241m1\u001b[39m \u001b[38;5;241m<\u001b[39m \u001b[38;5;241m0\u001b[39m \u001b[38;5;129;01mor\u001b[39;00m start_col \u001b[38;5;241m+\u001b[39m \u001b[38;5;241m1\u001b[39m \u001b[38;5;241m>\u001b[39m n:\n\u001b[1;32m     21\u001b[0m     \u001b[38;5;28;01mreturn\u001b[39;00m \u001b[38;5;28;01mFalse\u001b[39;00m\n\u001b[0;32m---> 23\u001b[0m left_to_right_diagonal \u001b[38;5;241m=\u001b[39m [grid[row\u001b[38;5;241m-\u001b[39m\u001b[38;5;241m1\u001b[39m, col\u001b[38;5;241m-\u001b[39m\u001b[38;5;241m1\u001b[39m], grid[row, col], \u001b[43mgrid\u001b[49m\u001b[43m[\u001b[49m\u001b[43mrow\u001b[49m\u001b[38;5;241;43m+\u001b[39;49m\u001b[38;5;241;43m1\u001b[39;49m\u001b[43m,\u001b[49m\u001b[43m \u001b[49m\u001b[43mcol\u001b[49m\u001b[38;5;241;43m+\u001b[39;49m\u001b[38;5;241;43m1\u001b[39;49m\u001b[43m]\u001b[49m]\n\u001b[1;32m     24\u001b[0m right_to_left_diagonal \u001b[38;5;241m=\u001b[39m [grid[row\u001b[38;5;241m+\u001b[39m\u001b[38;5;241m1\u001b[39m, col\u001b[38;5;241m-\u001b[39m\u001b[38;5;241m1\u001b[39m], grid[row, col], grid[row\u001b[38;5;241m-\u001b[39m\u001b[38;5;241m1\u001b[39m, col\u001b[38;5;241m+\u001b[39m\u001b[38;5;241m1\u001b[39m]]\n\u001b[1;32m     26\u001b[0m diagonal1 \u001b[38;5;241m=\u001b[39m \u001b[38;5;124m\"\u001b[39m\u001b[38;5;124m\"\u001b[39m\u001b[38;5;241m.\u001b[39mjoin(left_to_right_diagonal)\n",
      "\u001b[0;31mIndexError\u001b[0m: index 140 is out of bounds for axis 1 with size 140"
     ]
    }
   ],
   "source": [
    "answer_b = solution_b(puzzle.input_data)\n",
    "answer_b"
   ]
  },
  {
   "cell_type": "code",
   "execution_count": 64,
   "metadata": {},
   "outputs": [
    {
     "name": "stderr",
     "output_type": "stream",
     "text": [
      "coerced int64 value np.int64(84893551) for 2024/03 to '84893551'\n"
     ]
    },
    {
     "name": "stdout",
     "output_type": "stream",
     "text": [
      "\u001b[32mThat's the right answer!  You are one gold star closer to finding the Chief Historian.You have completed Day 3! You can [Shareon\n",
      "  Bluesky\n",
      "Twitter\n",
      "Mastodon] this victory or [Return to Your Advent Calendar].\u001b[0m\n"
     ]
    }
   ],
   "source": [
    "puzzle.answer_b = answer_b"
   ]
  }
 ],
 "metadata": {
  "kernelspec": {
   "display_name": "Python 3 (ipykernel)",
   "language": "python",
   "name": "python3"
  },
  "language_info": {
   "codemirror_mode": {
    "name": "ipython",
    "version": 3
   },
   "file_extension": ".py",
   "mimetype": "text/x-python",
   "name": "python",
   "nbconvert_exporter": "python",
   "pygments_lexer": "ipython3",
   "version": "3.10.14"
  }
 },
 "nbformat": 4,
 "nbformat_minor": 4
}
