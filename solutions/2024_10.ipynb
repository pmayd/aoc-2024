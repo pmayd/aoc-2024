{
 "cells": [
  {
   "cell_type": "code",
   "execution_count": 1,
   "metadata": {},
   "outputs": [],
   "source": [
    "import re\n",
    "from itertools import zip_longest\n",
    "\n",
    "import numpy as np\n",
    "from aocd.models import Puzzle\n",
    "import pickle\n",
    "import pyperclip\n",
    "\n",
    "from collections import deque"
   ]
  },
  {
   "cell_type": "code",
   "execution_count": 2,
   "metadata": {},
   "outputs": [],
   "source": [
    "year, day = 2024, 10"
   ]
  },
  {
   "cell_type": "code",
   "execution_count": 3,
   "metadata": {},
   "outputs": [],
   "source": [
    "puzzle = Puzzle(year=year, day=day)"
   ]
  },
  {
   "cell_type": "code",
   "execution_count": 4,
   "metadata": {},
   "outputs": [
    {
     "data": {
      "text/plain": [
       "'36'"
      ]
     },
     "execution_count": 4,
     "metadata": {},
     "output_type": "execute_result"
    }
   ],
   "source": [
    "puzzle.examples[0].answer_a"
   ]
  },
  {
   "cell_type": "code",
   "execution_count": 5,
   "metadata": {},
   "outputs": [
    {
     "name": "stdout",
     "output_type": "stream",
     "text": [
      "0123\n",
      "1234\n",
      "8765\n",
      "9876\n"
     ]
    }
   ],
   "source": [
    "example = puzzle.examples[0].input_data\n",
    "print(example)"
   ]
  },
  {
   "cell_type": "code",
   "execution_count": 6,
   "metadata": {},
   "outputs": [],
   "source": [
    "def solution_a(data: str) -> tuple[str, str, int]:\n",
    "    # a good hiking trail is as long as possible and has an even, gradual, uphill slope.\n",
    "    # For all practical purposes, this means that a hiking trail is any path that starts at height 0, \n",
    "    # ends at height 9, and always increases by a height of exactly 1 at each step. \n",
    "    # Hiking trails never include diagonal steps - only up, down, left, or right (from the perspective of the map).\n",
    "    # A trailhead is any position that starts one or more hiking trails - here, \n",
    "    # these positions will always have height 0. \n",
    "    # A trailhead's score is the number of 9-height positions reachable from that trailhead via a hiking trail.\n",
    "    hiking_map = np.array([list(map(int, list(line))) for line in data.splitlines()])\n",
    "    n, c = hiking_map.shape\n",
    "    print(hiking_map)\n",
    "    score = 0\n",
    "    \n",
    "    trailheads = np.argwhere(hiking_map == 0)\n",
    "\n",
    "    def reachable_peaks(start_pos):\n",
    "        peaks = set()\n",
    "        points_to_visit = deque([start_pos])\n",
    "    \n",
    "        while points_to_visit:\n",
    "            current_pos = points_to_visit.pop()\n",
    "            height = hiking_map[tuple(current_pos)]\n",
    "    \n",
    "            for x,y in [(-1,0), (1,0), (0,-1), (0,1)]:\n",
    "                new_pos = current_pos + np.array([x,y])\n",
    "    \n",
    "                if 0 <= new_pos[0] < n and 0 <= new_pos[1] < c:\n",
    "                    if hiking_map[tuple(new_pos)] == 9 and height==8:\n",
    "                        peaks.add(tuple(new_pos))\n",
    "                    elif hiking_map[tuple(new_pos)] == height + 1:\n",
    "                        points_to_visit.append(new_pos)\n",
    "\n",
    "        return peaks\n",
    "\n",
    "    peaks_per_trailhead = [(trailhead, reachable_peaks(trailhead)) for trailhead in trailheads]\n",
    "\n",
    "    # print out reachable peaks\n",
    "    hiking_map = hiking_map.astype(str)\n",
    "    for trailhead, peaks in peaks_per_trailhead:\n",
    "        for peak in peaks:\n",
    "            hiking_map[tuple(peak)] = \"X\"\n",
    "    print(hiking_map)\n",
    "\n",
    "    return sum(len(x[1]) for x in peaks_per_trailhead)"
   ]
  },
  {
   "cell_type": "code",
   "execution_count": 7,
   "metadata": {},
   "outputs": [
    {
     "name": "stdout",
     "output_type": "stream",
     "text": [
      "[[0 1 2 3]\n",
      " [1 2 3 4]\n",
      " [8 7 6 5]\n",
      " [9 8 7 6]]\n",
      "[['0' '1' '2' '3']\n",
      " ['1' '2' '3' '4']\n",
      " ['8' '7' '6' '5']\n",
      " ['X' '8' '7' '6']]\n"
     ]
    },
    {
     "data": {
      "text/plain": [
       "1"
      ]
     },
     "execution_count": 7,
     "metadata": {},
     "output_type": "execute_result"
    }
   ],
   "source": [
    "solution_a(puzzle.examples[0].input_data)"
   ]
  },
  {
   "cell_type": "code",
   "execution_count": 8,
   "metadata": {},
   "outputs": [
    {
     "name": "stdout",
     "output_type": "stream",
     "text": [
      "[[0 1 2 3]\n",
      " [1 2 3 4]\n",
      " [8 7 6 5]\n",
      " [9 8 7 6]]\n",
      "[['0' '1' '2' '3']\n",
      " ['1' '2' '3' '4']\n",
      " ['8' '7' '6' '5']\n",
      " ['X' '8' '7' '6']]\n"
     ]
    }
   ],
   "source": [
    "assert solution_a(puzzle.examples[0].input_data) == 1"
   ]
  },
  {
   "cell_type": "code",
   "execution_count": 9,
   "metadata": {},
   "outputs": [
    {
     "name": "stdout",
     "output_type": "stream",
     "text": [
      "[[3 3 3 0 3 3 3]\n",
      " [3 3 3 1 3 3 3]\n",
      " [3 3 3 2 3 3 3]\n",
      " [6 5 4 3 4 5 6]\n",
      " [7 3 3 3 3 3 7]\n",
      " [8 3 3 3 3 3 8]\n",
      " [9 3 3 3 3 3 9]]\n",
      "[['3' '3' '3' '0' '3' '3' '3']\n",
      " ['3' '3' '3' '1' '3' '3' '3']\n",
      " ['3' '3' '3' '2' '3' '3' '3']\n",
      " ['6' '5' '4' '3' '4' '5' '6']\n",
      " ['7' '3' '3' '3' '3' '3' '7']\n",
      " ['8' '3' '3' '3' '3' '3' '8']\n",
      " ['X' '3' '3' '3' '3' '3' 'X']]\n"
     ]
    }
   ],
   "source": [
    "input_ = \"\"\"...0...\n",
    "...1...\n",
    "...2...\n",
    "6543456\n",
    "7.....7\n",
    "8.....8\n",
    "9.....9\"\"\".replace(\".\",\"3\")\n",
    "assert solution_a(input_) == 2"
   ]
  },
  {
   "cell_type": "code",
   "execution_count": 10,
   "metadata": {},
   "outputs": [
    {
     "name": "stdout",
     "output_type": "stream",
     "text": [
      "[[3 3 9 0 3 3 9]\n",
      " [3 3 3 1 3 9 8]\n",
      " [3 3 3 2 3 3 7]\n",
      " [6 5 4 3 4 5 6]\n",
      " [7 6 5 3 9 8 7]\n",
      " [8 7 6 3 3 3 3]\n",
      " [9 8 7 3 3 3 3]]\n",
      "[['3' '3' '9' '0' '3' '3' 'X']\n",
      " ['3' '3' '3' '1' '3' 'X' '8']\n",
      " ['3' '3' '3' '2' '3' '3' '7']\n",
      " ['6' '5' '4' '3' '4' '5' '6']\n",
      " ['7' '6' '5' '3' 'X' '8' '7']\n",
      " ['8' '7' '6' '3' '3' '3' '3']\n",
      " ['X' '8' '7' '3' '3' '3' '3']]\n"
     ]
    }
   ],
   "source": [
    "input_ = \"\"\"..90..9\n",
    "...1.98\n",
    "...2..7\n",
    "6543456\n",
    "765.987\n",
    "876....\n",
    "987....\"\"\".replace(\".\", \"3\")\n",
    "assert solution_a(input_) == 4"
   ]
  },
  {
   "cell_type": "code",
   "execution_count": 11,
   "metadata": {},
   "outputs": [
    {
     "name": "stdout",
     "output_type": "stream",
     "text": [
      "[[8 9 0 1 0 1 2 3]\n",
      " [7 8 1 2 1 8 7 4]\n",
      " [8 7 4 3 0 9 6 5]\n",
      " [9 6 5 4 9 8 7 4]\n",
      " [4 5 6 7 8 9 0 3]\n",
      " [3 2 0 1 9 0 1 2]\n",
      " [0 1 3 2 9 8 0 1]\n",
      " [1 0 4 5 6 7 3 2]]\n",
      "[['8' 'X' '0' '1' '0' '1' '2' '3']\n",
      " ['7' '8' '1' '2' '1' '8' '7' '4']\n",
      " ['8' '7' '4' '3' '0' 'X' '6' '5']\n",
      " ['X' '6' '5' '4' 'X' '8' '7' '4']\n",
      " ['4' '5' '6' '7' '8' 'X' '0' '3']\n",
      " ['3' '2' '0' '1' 'X' '0' '1' '2']\n",
      " ['0' '1' '3' '2' 'X' '8' '0' '1']\n",
      " ['1' '0' '4' '5' '6' '7' '3' '2']]\n"
     ]
    },
    {
     "data": {
      "text/plain": [
       "True"
      ]
     },
     "execution_count": 11,
     "metadata": {},
     "output_type": "execute_result"
    }
   ],
   "source": [
    "input_ = \"\"\"89010123\n",
    "78121874\n",
    "87430965\n",
    "96549874\n",
    "45678903\n",
    "32019012\n",
    "01329801\n",
    "10456732\"\"\"\n",
    "solution_a(input_) == 36"
   ]
  },
  {
   "cell_type": "code",
   "execution_count": 12,
   "metadata": {},
   "outputs": [
    {
     "name": "stdout",
     "output_type": "stream",
     "text": [
      "[[1 4 5 ... 0 3 6]\n",
      " [0 3 4 ... 1 4 5]\n",
      " [1 2 5 ... 2 3 4]\n",
      " ...\n",
      " [2 9 6 ... 6 5 0]\n",
      " [1 2 5 ... 7 8 9]\n",
      " [0 3 4 ... 6 7 8]]\n",
      "[['1' '4' '5' ... '0' '3' '6']\n",
      " ['0' '3' '4' ... '1' '4' '5']\n",
      " ['1' '2' '5' ... '2' '3' '4']\n",
      " ...\n",
      " ['2' 'X' '6' ... '6' '5' '0']\n",
      " ['1' '2' '5' ... '7' '8' 'X']\n",
      " ['0' '3' '4' ... '6' '7' '8']]\n"
     ]
    }
   ],
   "source": [
    "answer_a = solution_a(puzzle.input_data)"
   ]
  },
  {
   "cell_type": "code",
   "execution_count": 15,
   "metadata": {},
   "outputs": [
    {
     "data": {
      "text/plain": [
       "638"
      ]
     },
     "execution_count": 15,
     "metadata": {},
     "output_type": "execute_result"
    }
   ],
   "source": [
    "answer_a"
   ]
  },
  {
   "cell_type": "code",
   "execution_count": 16,
   "metadata": {},
   "outputs": [],
   "source": [
    "puzzle.answer_a = answer_a"
   ]
  },
  {
   "cell_type": "markdown",
   "metadata": {},
   "source": [
    "## Part Two\n"
   ]
  },
  {
   "cell_type": "code",
   "execution_count": 20,
   "metadata": {},
   "outputs": [
    {
     "name": "stdout",
     "output_type": "stream",
     "text": [
      "0123\n",
      "1234\n",
      "8765\n",
      "9876\n"
     ]
    }
   ],
   "source": [
    "print(puzzle.examples[0].input_data)"
   ]
  },
  {
   "cell_type": "code",
   "execution_count": 42,
   "metadata": {},
   "outputs": [],
   "source": [
    "def solution_b(data: str) -> tuple[str, str, int]:\n",
    "    # The paper describes a second way to measure a trailhead called its rating. \n",
    "    # A trailhead's rating is the number of distinct hiking trails which begin at that trailhead.\n",
    "    hiking_map = np.array([list(map(int, list(line))) for line in data.splitlines()])\n",
    "    n, c = hiking_map.shape\n",
    "    print(hiking_map)\n",
    "    score = 0\n",
    "    \n",
    "    trailheads = np.argwhere(hiking_map == 0)\n",
    "\n",
    "    def find_trails(start_pos):\n",
    "        complete_paths = []\n",
    "        ongoing_paths = deque([[start_pos]])\n",
    "    \n",
    "        while ongoing_paths :\n",
    "            print(ongoing_paths)\n",
    "            current_path = ongoing_paths.pop()\n",
    "            current_pos = current_path[-1]\n",
    "            height = hiking_map[tuple(current_pos)]\n",
    "    \n",
    "            for x,y in [(-1,0), (1,0), (0,-1), (0,1)]:\n",
    "                new_pos = current_pos + np.array([x,y])\n",
    "    \n",
    "                if 0 <= new_pos[0] < n and 0 <= new_pos[1] < c:\n",
    "                    new_path = current_path + [new_pos]\n",
    "                    if hiking_map[tuple(new_pos)] == 9 and height==8:\n",
    "                        complete_paths.append(new_path)\n",
    "                    elif hiking_map[tuple(new_pos)] == height + 1:\n",
    "                        ongoing_paths.append(new_path)\n",
    "\n",
    "        return complete_paths\n",
    "\n",
    "    paths_per_trailhead = [(trailhead, find_trails(trailhead)) for trailhead in trailheads]\n",
    "\n",
    "    # print out reachable peaks\n",
    "    hiking_map = hiking_map.astype(str)\n",
    "    for trailhead, paths in paths_per_trailhead:\n",
    "        for path in paths:\n",
    "            for step in path:\n",
    "                hiking_map[tuple(step)] = \"X\"\n",
    "    print(hiking_map)\n",
    "\n",
    "    return sum(len(x[1]) for x in paths_per_trailhead)"
   ]
  },
  {
   "cell_type": "code",
   "execution_count": 43,
   "metadata": {},
   "outputs": [
    {
     "name": "stdout",
     "output_type": "stream",
     "text": [
      "[[0 1 2 3]\n",
      " [1 2 3 4]\n",
      " [8 7 6 5]\n",
      " [9 8 7 6]]\n",
      "deque([[array([0, 0])]])\n",
      "deque([[array([0, 0]), array([1, 0])], [array([0, 0]), array([0, 1])]])\n",
      "deque([[array([0, 0]), array([1, 0])], [array([0, 0]), array([0, 1]), array([1, 1])], [array([0, 0]), array([0, 1]), array([0, 2])]])\n",
      "deque([[array([0, 0]), array([1, 0])], [array([0, 0]), array([0, 1]), array([1, 1])], [array([0, 0]), array([0, 1]), array([0, 2]), array([1, 2])], [array([0, 0]), array([0, 1]), array([0, 2]), array([0, 3])]])\n",
      "deque([[array([0, 0]), array([1, 0])], [array([0, 0]), array([0, 1]), array([1, 1])], [array([0, 0]), array([0, 1]), array([0, 2]), array([1, 2])], [array([0, 0]), array([0, 1]), array([0, 2]), array([0, 3]), array([1, 3])]])\n",
      "deque([[array([0, 0]), array([1, 0])], [array([0, 0]), array([0, 1]), array([1, 1])], [array([0, 0]), array([0, 1]), array([0, 2]), array([1, 2])], [array([0, 0]), array([0, 1]), array([0, 2]), array([0, 3]), array([1, 3]), array([2, 3])]])\n",
      "deque([[array([0, 0]), array([1, 0])], [array([0, 0]), array([0, 1]), array([1, 1])], [array([0, 0]), array([0, 1]), array([0, 2]), array([1, 2])], [array([0, 0]), array([0, 1]), array([0, 2]), array([0, 3]), array([1, 3]), array([2, 3]), array([3, 3])], [array([0, 0]), array([0, 1]), array([0, 2]), array([0, 3]), array([1, 3]), array([2, 3]), array([2, 2])]])\n",
      "deque([[array([0, 0]), array([1, 0])], [array([0, 0]), array([0, 1]), array([1, 1])], [array([0, 0]), array([0, 1]), array([0, 2]), array([1, 2])], [array([0, 0]), array([0, 1]), array([0, 2]), array([0, 3]), array([1, 3]), array([2, 3]), array([3, 3])], [array([0, 0]), array([0, 1]), array([0, 2]), array([0, 3]), array([1, 3]), array([2, 3]), array([2, 2]), array([3, 2])], [array([0, 0]), array([0, 1]), array([0, 2]), array([0, 3]), array([1, 3]), array([2, 3]), array([2, 2]), array([2, 1])]])\n",
      "deque([[array([0, 0]), array([1, 0])], [array([0, 0]), array([0, 1]), array([1, 1])], [array([0, 0]), array([0, 1]), array([0, 2]), array([1, 2])], [array([0, 0]), array([0, 1]), array([0, 2]), array([0, 3]), array([1, 3]), array([2, 3]), array([3, 3])], [array([0, 0]), array([0, 1]), array([0, 2]), array([0, 3]), array([1, 3]), array([2, 3]), array([2, 2]), array([3, 2])], [array([0, 0]), array([0, 1]), array([0, 2]), array([0, 3]), array([1, 3]), array([2, 3]), array([2, 2]), array([2, 1]), array([3, 1])], [array([0, 0]), array([0, 1]), array([0, 2]), array([0, 3]), array([1, 3]), array([2, 3]), array([2, 2]), array([2, 1]), array([2, 0])]])\n",
      "deque([[array([0, 0]), array([1, 0])], [array([0, 0]), array([0, 1]), array([1, 1])], [array([0, 0]), array([0, 1]), array([0, 2]), array([1, 2])], [array([0, 0]), array([0, 1]), array([0, 2]), array([0, 3]), array([1, 3]), array([2, 3]), array([3, 3])], [array([0, 0]), array([0, 1]), array([0, 2]), array([0, 3]), array([1, 3]), array([2, 3]), array([2, 2]), array([3, 2])], [array([0, 0]), array([0, 1]), array([0, 2]), array([0, 3]), array([1, 3]), array([2, 3]), array([2, 2]), array([2, 1]), array([3, 1])]])\n",
      "deque([[array([0, 0]), array([1, 0])], [array([0, 0]), array([0, 1]), array([1, 1])], [array([0, 0]), array([0, 1]), array([0, 2]), array([1, 2])], [array([0, 0]), array([0, 1]), array([0, 2]), array([0, 3]), array([1, 3]), array([2, 3]), array([3, 3])], [array([0, 0]), array([0, 1]), array([0, 2]), array([0, 3]), array([1, 3]), array([2, 3]), array([2, 2]), array([3, 2])]])\n",
      "deque([[array([0, 0]), array([1, 0])], [array([0, 0]), array([0, 1]), array([1, 1])], [array([0, 0]), array([0, 1]), array([0, 2]), array([1, 2])], [array([0, 0]), array([0, 1]), array([0, 2]), array([0, 3]), array([1, 3]), array([2, 3]), array([3, 3])], [array([0, 0]), array([0, 1]), array([0, 2]), array([0, 3]), array([1, 3]), array([2, 3]), array([2, 2]), array([3, 2]), array([3, 1])]])\n",
      "deque([[array([0, 0]), array([1, 0])], [array([0, 0]), array([0, 1]), array([1, 1])], [array([0, 0]), array([0, 1]), array([0, 2]), array([1, 2])], [array([0, 0]), array([0, 1]), array([0, 2]), array([0, 3]), array([1, 3]), array([2, 3]), array([3, 3])]])\n",
      "deque([[array([0, 0]), array([1, 0])], [array([0, 0]), array([0, 1]), array([1, 1])], [array([0, 0]), array([0, 1]), array([0, 2]), array([1, 2])], [array([0, 0]), array([0, 1]), array([0, 2]), array([0, 3]), array([1, 3]), array([2, 3]), array([3, 3]), array([3, 2])]])\n",
      "deque([[array([0, 0]), array([1, 0])], [array([0, 0]), array([0, 1]), array([1, 1])], [array([0, 0]), array([0, 1]), array([0, 2]), array([1, 2])], [array([0, 0]), array([0, 1]), array([0, 2]), array([0, 3]), array([1, 3]), array([2, 3]), array([3, 3]), array([3, 2]), array([3, 1])]])\n",
      "deque([[array([0, 0]), array([1, 0])], [array([0, 0]), array([0, 1]), array([1, 1])], [array([0, 0]), array([0, 1]), array([0, 2]), array([1, 2])]])\n",
      "deque([[array([0, 0]), array([1, 0])], [array([0, 0]), array([0, 1]), array([1, 1])], [array([0, 0]), array([0, 1]), array([0, 2]), array([1, 2]), array([1, 3])]])\n",
      "deque([[array([0, 0]), array([1, 0])], [array([0, 0]), array([0, 1]), array([1, 1])], [array([0, 0]), array([0, 1]), array([0, 2]), array([1, 2]), array([1, 3]), array([2, 3])]])\n",
      "deque([[array([0, 0]), array([1, 0])], [array([0, 0]), array([0, 1]), array([1, 1])], [array([0, 0]), array([0, 1]), array([0, 2]), array([1, 2]), array([1, 3]), array([2, 3]), array([3, 3])], [array([0, 0]), array([0, 1]), array([0, 2]), array([1, 2]), array([1, 3]), array([2, 3]), array([2, 2])]])\n",
      "deque([[array([0, 0]), array([1, 0])], [array([0, 0]), array([0, 1]), array([1, 1])], [array([0, 0]), array([0, 1]), array([0, 2]), array([1, 2]), array([1, 3]), array([2, 3]), array([3, 3])], [array([0, 0]), array([0, 1]), array([0, 2]), array([1, 2]), array([1, 3]), array([2, 3]), array([2, 2]), array([3, 2])], [array([0, 0]), array([0, 1]), array([0, 2]), array([1, 2]), array([1, 3]), array([2, 3]), array([2, 2]), array([2, 1])]])\n",
      "deque([[array([0, 0]), array([1, 0])], [array([0, 0]), array([0, 1]), array([1, 1])], [array([0, 0]), array([0, 1]), array([0, 2]), array([1, 2]), array([1, 3]), array([2, 3]), array([3, 3])], [array([0, 0]), array([0, 1]), array([0, 2]), array([1, 2]), array([1, 3]), array([2, 3]), array([2, 2]), array([3, 2])], [array([0, 0]), array([0, 1]), array([0, 2]), array([1, 2]), array([1, 3]), array([2, 3]), array([2, 2]), array([2, 1]), array([3, 1])], [array([0, 0]), array([0, 1]), array([0, 2]), array([1, 2]), array([1, 3]), array([2, 3]), array([2, 2]), array([2, 1]), array([2, 0])]])\n",
      "deque([[array([0, 0]), array([1, 0])], [array([0, 0]), array([0, 1]), array([1, 1])], [array([0, 0]), array([0, 1]), array([0, 2]), array([1, 2]), array([1, 3]), array([2, 3]), array([3, 3])], [array([0, 0]), array([0, 1]), array([0, 2]), array([1, 2]), array([1, 3]), array([2, 3]), array([2, 2]), array([3, 2])], [array([0, 0]), array([0, 1]), array([0, 2]), array([1, 2]), array([1, 3]), array([2, 3]), array([2, 2]), array([2, 1]), array([3, 1])]])\n",
      "deque([[array([0, 0]), array([1, 0])], [array([0, 0]), array([0, 1]), array([1, 1])], [array([0, 0]), array([0, 1]), array([0, 2]), array([1, 2]), array([1, 3]), array([2, 3]), array([3, 3])], [array([0, 0]), array([0, 1]), array([0, 2]), array([1, 2]), array([1, 3]), array([2, 3]), array([2, 2]), array([3, 2])]])\n",
      "deque([[array([0, 0]), array([1, 0])], [array([0, 0]), array([0, 1]), array([1, 1])], [array([0, 0]), array([0, 1]), array([0, 2]), array([1, 2]), array([1, 3]), array([2, 3]), array([3, 3])], [array([0, 0]), array([0, 1]), array([0, 2]), array([1, 2]), array([1, 3]), array([2, 3]), array([2, 2]), array([3, 2]), array([3, 1])]])\n",
      "deque([[array([0, 0]), array([1, 0])], [array([0, 0]), array([0, 1]), array([1, 1])], [array([0, 0]), array([0, 1]), array([0, 2]), array([1, 2]), array([1, 3]), array([2, 3]), array([3, 3])]])\n",
      "deque([[array([0, 0]), array([1, 0])], [array([0, 0]), array([0, 1]), array([1, 1])], [array([0, 0]), array([0, 1]), array([0, 2]), array([1, 2]), array([1, 3]), array([2, 3]), array([3, 3]), array([3, 2])]])\n",
      "deque([[array([0, 0]), array([1, 0])], [array([0, 0]), array([0, 1]), array([1, 1])], [array([0, 0]), array([0, 1]), array([0, 2]), array([1, 2]), array([1, 3]), array([2, 3]), array([3, 3]), array([3, 2]), array([3, 1])]])\n",
      "deque([[array([0, 0]), array([1, 0])], [array([0, 0]), array([0, 1]), array([1, 1])]])\n",
      "deque([[array([0, 0]), array([1, 0])], [array([0, 0]), array([0, 1]), array([1, 1]), array([1, 2])]])\n",
      "deque([[array([0, 0]), array([1, 0])], [array([0, 0]), array([0, 1]), array([1, 1]), array([1, 2]), array([1, 3])]])\n",
      "deque([[array([0, 0]), array([1, 0])], [array([0, 0]), array([0, 1]), array([1, 1]), array([1, 2]), array([1, 3]), array([2, 3])]])\n",
      "deque([[array([0, 0]), array([1, 0])], [array([0, 0]), array([0, 1]), array([1, 1]), array([1, 2]), array([1, 3]), array([2, 3]), array([3, 3])], [array([0, 0]), array([0, 1]), array([1, 1]), array([1, 2]), array([1, 3]), array([2, 3]), array([2, 2])]])\n",
      "deque([[array([0, 0]), array([1, 0])], [array([0, 0]), array([0, 1]), array([1, 1]), array([1, 2]), array([1, 3]), array([2, 3]), array([3, 3])], [array([0, 0]), array([0, 1]), array([1, 1]), array([1, 2]), array([1, 3]), array([2, 3]), array([2, 2]), array([3, 2])], [array([0, 0]), array([0, 1]), array([1, 1]), array([1, 2]), array([1, 3]), array([2, 3]), array([2, 2]), array([2, 1])]])\n",
      "deque([[array([0, 0]), array([1, 0])], [array([0, 0]), array([0, 1]), array([1, 1]), array([1, 2]), array([1, 3]), array([2, 3]), array([3, 3])], [array([0, 0]), array([0, 1]), array([1, 1]), array([1, 2]), array([1, 3]), array([2, 3]), array([2, 2]), array([3, 2])], [array([0, 0]), array([0, 1]), array([1, 1]), array([1, 2]), array([1, 3]), array([2, 3]), array([2, 2]), array([2, 1]), array([3, 1])], [array([0, 0]), array([0, 1]), array([1, 1]), array([1, 2]), array([1, 3]), array([2, 3]), array([2, 2]), array([2, 1]), array([2, 0])]])\n",
      "deque([[array([0, 0]), array([1, 0])], [array([0, 0]), array([0, 1]), array([1, 1]), array([1, 2]), array([1, 3]), array([2, 3]), array([3, 3])], [array([0, 0]), array([0, 1]), array([1, 1]), array([1, 2]), array([1, 3]), array([2, 3]), array([2, 2]), array([3, 2])], [array([0, 0]), array([0, 1]), array([1, 1]), array([1, 2]), array([1, 3]), array([2, 3]), array([2, 2]), array([2, 1]), array([3, 1])]])\n",
      "deque([[array([0, 0]), array([1, 0])], [array([0, 0]), array([0, 1]), array([1, 1]), array([1, 2]), array([1, 3]), array([2, 3]), array([3, 3])], [array([0, 0]), array([0, 1]), array([1, 1]), array([1, 2]), array([1, 3]), array([2, 3]), array([2, 2]), array([3, 2])]])\n",
      "deque([[array([0, 0]), array([1, 0])], [array([0, 0]), array([0, 1]), array([1, 1]), array([1, 2]), array([1, 3]), array([2, 3]), array([3, 3])], [array([0, 0]), array([0, 1]), array([1, 1]), array([1, 2]), array([1, 3]), array([2, 3]), array([2, 2]), array([3, 2]), array([3, 1])]])\n",
      "deque([[array([0, 0]), array([1, 0])], [array([0, 0]), array([0, 1]), array([1, 1]), array([1, 2]), array([1, 3]), array([2, 3]), array([3, 3])]])\n",
      "deque([[array([0, 0]), array([1, 0])], [array([0, 0]), array([0, 1]), array([1, 1]), array([1, 2]), array([1, 3]), array([2, 3]), array([3, 3]), array([3, 2])]])\n",
      "deque([[array([0, 0]), array([1, 0])], [array([0, 0]), array([0, 1]), array([1, 1]), array([1, 2]), array([1, 3]), array([2, 3]), array([3, 3]), array([3, 2]), array([3, 1])]])\n",
      "deque([[array([0, 0]), array([1, 0])]])\n",
      "deque([[array([0, 0]), array([1, 0]), array([1, 1])]])\n",
      "deque([[array([0, 0]), array([1, 0]), array([1, 1]), array([1, 2])]])\n",
      "deque([[array([0, 0]), array([1, 0]), array([1, 1]), array([1, 2]), array([1, 3])]])\n",
      "deque([[array([0, 0]), array([1, 0]), array([1, 1]), array([1, 2]), array([1, 3]), array([2, 3])]])\n",
      "deque([[array([0, 0]), array([1, 0]), array([1, 1]), array([1, 2]), array([1, 3]), array([2, 3]), array([3, 3])], [array([0, 0]), array([1, 0]), array([1, 1]), array([1, 2]), array([1, 3]), array([2, 3]), array([2, 2])]])\n",
      "deque([[array([0, 0]), array([1, 0]), array([1, 1]), array([1, 2]), array([1, 3]), array([2, 3]), array([3, 3])], [array([0, 0]), array([1, 0]), array([1, 1]), array([1, 2]), array([1, 3]), array([2, 3]), array([2, 2]), array([3, 2])], [array([0, 0]), array([1, 0]), array([1, 1]), array([1, 2]), array([1, 3]), array([2, 3]), array([2, 2]), array([2, 1])]])\n",
      "deque([[array([0, 0]), array([1, 0]), array([1, 1]), array([1, 2]), array([1, 3]), array([2, 3]), array([3, 3])], [array([0, 0]), array([1, 0]), array([1, 1]), array([1, 2]), array([1, 3]), array([2, 3]), array([2, 2]), array([3, 2])], [array([0, 0]), array([1, 0]), array([1, 1]), array([1, 2]), array([1, 3]), array([2, 3]), array([2, 2]), array([2, 1]), array([3, 1])], [array([0, 0]), array([1, 0]), array([1, 1]), array([1, 2]), array([1, 3]), array([2, 3]), array([2, 2]), array([2, 1]), array([2, 0])]])\n",
      "deque([[array([0, 0]), array([1, 0]), array([1, 1]), array([1, 2]), array([1, 3]), array([2, 3]), array([3, 3])], [array([0, 0]), array([1, 0]), array([1, 1]), array([1, 2]), array([1, 3]), array([2, 3]), array([2, 2]), array([3, 2])], [array([0, 0]), array([1, 0]), array([1, 1]), array([1, 2]), array([1, 3]), array([2, 3]), array([2, 2]), array([2, 1]), array([3, 1])]])\n",
      "deque([[array([0, 0]), array([1, 0]), array([1, 1]), array([1, 2]), array([1, 3]), array([2, 3]), array([3, 3])], [array([0, 0]), array([1, 0]), array([1, 1]), array([1, 2]), array([1, 3]), array([2, 3]), array([2, 2]), array([3, 2])]])\n",
      "deque([[array([0, 0]), array([1, 0]), array([1, 1]), array([1, 2]), array([1, 3]), array([2, 3]), array([3, 3])], [array([0, 0]), array([1, 0]), array([1, 1]), array([1, 2]), array([1, 3]), array([2, 3]), array([2, 2]), array([3, 2]), array([3, 1])]])\n",
      "deque([[array([0, 0]), array([1, 0]), array([1, 1]), array([1, 2]), array([1, 3]), array([2, 3]), array([3, 3])]])\n",
      "deque([[array([0, 0]), array([1, 0]), array([1, 1]), array([1, 2]), array([1, 3]), array([2, 3]), array([3, 3]), array([3, 2])]])\n",
      "deque([[array([0, 0]), array([1, 0]), array([1, 1]), array([1, 2]), array([1, 3]), array([2, 3]), array([3, 3]), array([3, 2]), array([3, 1])]])\n",
      "[['X' 'X' 'X' 'X']\n",
      " ['X' 'X' 'X' 'X']\n",
      " ['X' 'X' 'X' 'X']\n",
      " ['X' 'X' 'X' 'X']]\n"
     ]
    },
    {
     "data": {
      "text/plain": [
       "16"
      ]
     },
     "execution_count": 43,
     "metadata": {},
     "output_type": "execute_result"
    }
   ],
   "source": [
    "solution_b(puzzle.examples[0].input_data)"
   ]
  },
  {
   "cell_type": "code",
   "execution_count": 165,
   "metadata": {
    "scrolled": true
   },
   "outputs": [
    {
     "name": "stdout",
     "output_type": "stream",
     "text": [
      "00...111...2...333.44.5555.6666.777.888899\n",
      "0099.111...2...333.44.5555.6666.777.8888..\n",
      "0099.111...2...333.44.5555.6666.777.8888..\n",
      "0099.1117772...333.44.5555.6666.....8888..\n",
      "0099.1117772...333.44.5555.6666.....8888..\n",
      "0099.1117772...333.44.5555.6666.....8888..\n",
      "0099.111777244.333....5555.6666.....8888..\n",
      "0099.111777244.333....5555.6666.....8888..\n",
      "0099.111777244.333....5555.6666.....8888..\n",
      "00992111777.44.333....5555.6666.....8888..\n",
      "00992111777.44.333....5555.6666.....8888..\n",
      "00992111777.44.333....5555.6666.....8888..\n",
      "00992111777.44.333....5555.6666.....8888..\n"
     ]
    },
    {
     "data": {
      "text/plain": [
       "True"
      ]
     },
     "execution_count": 165,
     "metadata": {},
     "output_type": "execute_result"
    }
   ],
   "source": [
    "solution_b(puzzle.examples[0].input_data)[1].strip(\".\") == \"00992111777.44.333....5555.6666.....8888\""
   ]
  },
  {
   "cell_type": "code",
   "execution_count": 168,
   "metadata": {},
   "outputs": [],
   "source": [
    "assert solution_b(puzzle.examples[0].input_data)[2] == 2858"
   ]
  },
  {
   "cell_type": "code",
   "execution_count": null,
   "metadata": {},
   "outputs": [],
   "source": [
    "answer_b = solution_b(puzzle.input_data)\n",
    "answer_b"
   ]
  },
  {
   "cell_type": "code",
   "execution_count": 170,
   "metadata": {},
   "outputs": [
    {
     "name": "stdout",
     "output_type": "stream",
     "text": [
      "\u001b[32mThat's the right answer!  You are one gold star closer to finding the Chief Historian.You have completed Day 9! You can [Shareon\n",
      "  Bluesky\n",
      "Twitter\n",
      "Mastodon] this victory or [Return to Your Advent Calendar].\u001b[0m\n"
     ]
    }
   ],
   "source": [
    "puzzle.answer_b = answer_b[2]"
   ]
  }
 ],
 "metadata": {
  "kernelspec": {
   "display_name": "Python 3 (ipykernel)",
   "language": "python",
   "name": "python3"
  },
  "language_info": {
   "codemirror_mode": {
    "name": "ipython",
    "version": 3
   },
   "file_extension": ".py",
   "mimetype": "text/x-python",
   "name": "python",
   "nbconvert_exporter": "python",
   "pygments_lexer": "ipython3",
   "version": "3.10.14"
  },
  "widgets": {
   "application/vnd.jupyter.widget-state+json": {
    "state": {},
    "version_major": 2,
    "version_minor": 0
   }
  }
 },
 "nbformat": 4,
 "nbformat_minor": 4
}
