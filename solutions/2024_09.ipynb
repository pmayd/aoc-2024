{
 "cells": [
  {
   "cell_type": "code",
   "execution_count": 16,
   "metadata": {},
   "outputs": [],
   "source": [
    "import re\n",
    "from itertools import zip_longest\n",
    "\n",
    "import numpy as np\n",
    "from aocd.models import Puzzle\n",
    "import pickle\n",
    "import pyperclip"
   ]
  },
  {
   "cell_type": "code",
   "execution_count": 2,
   "metadata": {},
   "outputs": [],
   "source": [
    "year, day = 2024, 9"
   ]
  },
  {
   "cell_type": "code",
   "execution_count": 3,
   "metadata": {},
   "outputs": [],
   "source": [
    "puzzle = Puzzle(year=year, day=day)"
   ]
  },
  {
   "cell_type": "code",
   "execution_count": 4,
   "metadata": {},
   "outputs": [
    {
     "data": {
      "text/plain": [
       "'1928'"
      ]
     },
     "execution_count": 4,
     "metadata": {},
     "output_type": "execute_result"
    }
   ],
   "source": [
    "puzzle.examples[0].answer_a"
   ]
  },
  {
   "cell_type": "code",
   "execution_count": 5,
   "metadata": {},
   "outputs": [
    {
     "name": "stdout",
     "output_type": "stream",
     "text": [
      "2333133121414131402\n"
     ]
    }
   ],
   "source": [
    "example = puzzle.examples[0].input_data\n",
    "print(example)"
   ]
  },
  {
   "cell_type": "code",
   "execution_count": 119,
   "metadata": {},
   "outputs": [],
   "source": [
    "def solution_a(data: str) -> tuple[str, str, int]:\n",
    "    # The disk map uses a dense format to represent the layout\n",
    "    # of files and free space on the disk.\n",
    "    # The digits alternate between indicating the length of a file\n",
    "    # and the length of free space.\n",
    "    # Each file on disk also has an ID number based on the order of the files\n",
    "    # as they appear before they are rearranged, starting with ID 0.\n",
    "    file_blocks = list(map(int, data[::2]))\n",
    "    free_space_blocks = list(map(int, data[1::2]))\n",
    "    FRAGMENTED_PATTERN = re.compile(r\"\\d\\.+\\d\")\n",
    "\n",
    "    block_representation = []\n",
    "\n",
    "    for i, (file_block, free_space_block) in enumerate(\n",
    "        zip_longest(file_blocks, free_space_blocks)\n",
    "    ):\n",
    "        if file_block:\n",
    "            block_representation.append((i, file_block))\n",
    "\n",
    "        if free_space_block:\n",
    "            block_representation.append((\".\", free_space_block))\n",
    "\n",
    "    # block_representation looks like [(0, 4), (., 3), (1, 4), (., 1)] = 4341\n",
    "\n",
    "    str_block_representation = \"\".join(\"\".join(str(x[0]) * x[1]) for x in block_representation)\n",
    "\n",
    "    # continue defragmenting until all gaps are closes\n",
    "    ordered_block_representation = block_representation.copy()\n",
    "    leftmost_free_space_pos = 0\n",
    "    rightmost_file_block_pos = len(ordered_block_representation) - 1\n",
    "    while leftmost_free_space_pos <= rightmost_file_block_pos:\n",
    "        #print(ordered_block_representation)\n",
    "        # find next free space\n",
    "        while True:\n",
    "            if ordered_block_representation[leftmost_free_space_pos][0] == \".\":\n",
    "                break\n",
    "            leftmost_free_space_pos += 1\n",
    "\n",
    "        # find next block to move\n",
    "        while True:\n",
    "            if ordered_block_representation[rightmost_file_block_pos][0] != \".\":\n",
    "                break\n",
    "            rightmost_file_block_pos -= 1\n",
    "\n",
    "        # replace one \".\" with one number\n",
    "        left, right = ordered_block_representation[leftmost_free_space_pos], ordered_block_representation[rightmost_file_block_pos]\n",
    "        space_diff = left[1] - right[1]\n",
    "        if space_diff == 0:\n",
    "            ordered_block_representation[leftmost_free_space_pos] = (right[0], right[1])\n",
    "            del ordered_block_representation[rightmost_file_block_pos]\n",
    "            rightmost_file_block_pos -= 1 # we deleted one element\n",
    "        elif space_diff > 0:\n",
    "            ordered_block_representation[leftmost_free_space_pos] = (right[0], right[1])\n",
    "            ordered_block_representation.insert(leftmost_free_space_pos+1, (\".\", space_diff))\n",
    "            rightmost_file_block_pos += 1 # we added one element\n",
    "            del ordered_block_representation[rightmost_file_block_pos]\n",
    "            rightmost_file_block_pos -= 1 # we deleted one element\n",
    "        else:\n",
    "            space_diff *= (-1)\n",
    "            ordered_block_representation[leftmost_free_space_pos] = (right[0], left[1])\n",
    "            ordered_block_representation[rightmost_file_block_pos] = (right[0], space_diff)\n",
    "            \n",
    "    str_ordered_block_representation = \"\".join(\"\".join(str(x[0]) * x[1]) for x in ordered_block_representation)\n",
    "    \n",
    "    checksum = 0\n",
    "    pos = 0\n",
    "    for block in ordered_block_representation:\n",
    "        if block[0] == \".\":\n",
    "            break\n",
    "        for _ in range(block[1]):\n",
    "            checksum += block[0] * pos\n",
    "            pos += 1\n",
    "\n",
    "    return str_block_representation, str_ordered_block_representation, checksum"
   ]
  },
  {
   "cell_type": "code",
   "execution_count": 120,
   "metadata": {},
   "outputs": [
    {
     "data": {
      "text/plain": [
       "('0..111....22222', '022111222', 60)"
      ]
     },
     "execution_count": 120,
     "metadata": {},
     "output_type": "execute_result"
    }
   ],
   "source": [
    "solution_a(\"12345\")"
   ]
  },
  {
   "cell_type": "code",
   "execution_count": 121,
   "metadata": {},
   "outputs": [
    {
     "data": {
      "text/plain": [
       "('00...111...2...333.44.5555.6666.777.888899',\n",
       " '0099811188827773336446555566.',\n",
       " 1928)"
      ]
     },
     "execution_count": 121,
     "metadata": {},
     "output_type": "execute_result"
    }
   ],
   "source": [
    "solution_a(puzzle.examples[0].input_data)"
   ]
  },
  {
   "cell_type": "code",
   "execution_count": 124,
   "metadata": {},
   "outputs": [],
   "source": [
    "assert (\n",
    "    solution_a(puzzle.examples[0].input_data)[1].strip(\".\")\n",
    "    == \"0099811188827773336446555566\"\n",
    ")"
   ]
  },
  {
   "cell_type": "code",
   "execution_count": 125,
   "metadata": {},
   "outputs": [],
   "source": [
    "assert solution_a(puzzle.examples[0].input_data)[2] == 1928"
   ]
  },
  {
   "cell_type": "code",
   "execution_count": 126,
   "metadata": {},
   "outputs": [],
   "source": [
    "answer_a = solution_a(puzzle.input_data)"
   ]
  },
  {
   "cell_type": "code",
   "execution_count": 128,
   "metadata": {},
   "outputs": [
    {
     "data": {
      "text/plain": [
       "6200294120911"
      ]
     },
     "execution_count": 128,
     "metadata": {},
     "output_type": "execute_result"
    }
   ],
   "source": [
    "answer_a[2]"
   ]
  },
  {
   "cell_type": "code",
   "execution_count": 129,
   "metadata": {},
   "outputs": [
    {
     "name": "stdout",
     "output_type": "stream",
     "text": [
      "\u001b[32mThat's the right answer!  You are one gold star closer to finding the Chief Historian. [Continue to Part Two]\u001b[0m\n"
     ]
    }
   ],
   "source": [
    "puzzle.answer_a = answer_a[2]"
   ]
  },
  {
   "cell_type": "markdown",
   "metadata": {},
   "source": [
    "## Part Two\n"
   ]
  },
  {
   "cell_type": "code",
   "execution_count": 162,
   "metadata": {},
   "outputs": [],
   "source": [
    "small_example = \"\"\"T.........\n",
    "...T......\n",
    ".T........\n",
    "..........\n",
    "..........\n",
    "..........\n",
    "..........\n",
    "..........\n",
    "..........\n",
    "..........\"\"\""
   ]
  },
  {
   "cell_type": "code",
   "execution_count": 166,
   "metadata": {},
   "outputs": [],
   "source": [
    "def solution_b(data: str) -> tuple[str, str, int]:\n",
    "    # This time, attempt to move whole files to the leftmost span of free space blocks\n",
    "    # that could fit the file. Attempt to move each file exactly once\n",
    "    # in order of decreasing file ID number starting with the file with the highest file ID number. \n",
    "    # If there is no span of free space to the left of a file that is large enough to fit the file,\n",
    "    # the file does not move.\n",
    "    file_blocks = list(map(int, data[::2]))\n",
    "    free_space_blocks = list(map(int, data[1::2]))\n",
    "    FRAGMENTED_PATTERN = re.compile(r\"\\d\\.+\\d\")\n",
    "\n",
    "    block_representation = []\n",
    "\n",
    "    for i, (file_block, free_space_block) in enumerate(\n",
    "        zip_longest(file_blocks, free_space_blocks)\n",
    "    ):\n",
    "        if file_block:\n",
    "            block_representation.append((i, file_block))\n",
    "\n",
    "        if free_space_block:\n",
    "            block_representation.append((\".\", free_space_block))\n",
    "\n",
    "    # block_representation looks like [(0, 4), (., 3), (1, 4), (., 1)] = 4341\n",
    "\n",
    "    str_block_representation = \"\".join(\"\".join(str(x[0]) * x[1]) for x in block_representation)\n",
    "\n",
    "    # continue defragmenting until all gaps are closes\n",
    "    ordered_block_representation = block_representation.copy()\n",
    "    \n",
    "    # go through all file blocks from end to beginning\n",
    "    right_pos = len(ordered_block_representation) - 1\n",
    "    while right_pos > 0:\n",
    "        # find next file block from end\n",
    "        # at the end first block with pos 0 is always != \".\"\n",
    "        while True:\n",
    "            right = ordered_block_representation[right_pos]\n",
    "            if right[0] != \".\":\n",
    "                break\n",
    "            right_pos -= 1\n",
    "        \n",
    "        # find next free space block from beginning that can hold file block\n",
    "        left_pos = 0\n",
    "        while left_pos < right_pos:\n",
    "            left = ordered_block_representation[left_pos]\n",
    "            if left[0] == \".\" and left[1] >= right[1]:\n",
    "                break\n",
    "            left_pos += 1\n",
    "\n",
    "        # if we cannot find a free space block, move to the next file block\n",
    "        if left_pos >= right_pos:\n",
    "            right_pos -= 1\n",
    "            continue               \n",
    "\n",
    "        # move whole file block into free space\n",
    "        space_diff = left[1] - right[1]\n",
    "        if space_diff == 0:\n",
    "            ordered_block_representation[left_pos] = (right[0], right[1])\n",
    "        elif space_diff > 0:\n",
    "            ordered_block_representation[left_pos] = (right[0], right[1])\n",
    "            ordered_block_representation.insert(left_pos + 1, (\".\", space_diff))\n",
    "            right_pos += 1 # we inserted one element\n",
    "\n",
    "        # by moving the whole block, we free the space at the original place\n",
    "        ordered_block_representation[right_pos] = (\".\", right[1])\n",
    "        \n",
    "    str_ordered_block_representation = \"\".join(\"\".join(str(x[0]) * x[1]) for x in ordered_block_representation)\n",
    "    \n",
    "    checksum = 0\n",
    "    pos = 0\n",
    "    for block in ordered_block_representation:\n",
    "        if block[0] == \".\":\n",
    "            pos += block[1]\n",
    "            continue\n",
    "        for _ in range(block[1]):\n",
    "            checksum += block[0] * pos\n",
    "            pos += 1\n",
    "\n",
    "    return str_block_representation, str_ordered_block_representation, checksum"
   ]
  },
  {
   "cell_type": "code",
   "execution_count": 167,
   "metadata": {},
   "outputs": [
    {
     "data": {
      "text/plain": [
       "('00...111...2...333.44.5555.6666.777.888899',\n",
       " '00992111777.44.333....5555.6666.....8888..',\n",
       " 2858)"
      ]
     },
     "execution_count": 167,
     "metadata": {},
     "output_type": "execute_result"
    }
   ],
   "source": [
    "solution_b(puzzle.examples[0].input_data)"
   ]
  },
  {
   "cell_type": "code",
   "execution_count": 165,
   "metadata": {
    "scrolled": true
   },
   "outputs": [
    {
     "name": "stdout",
     "output_type": "stream",
     "text": [
      "00...111...2...333.44.5555.6666.777.888899\n",
      "0099.111...2...333.44.5555.6666.777.8888..\n",
      "0099.111...2...333.44.5555.6666.777.8888..\n",
      "0099.1117772...333.44.5555.6666.....8888..\n",
      "0099.1117772...333.44.5555.6666.....8888..\n",
      "0099.1117772...333.44.5555.6666.....8888..\n",
      "0099.111777244.333....5555.6666.....8888..\n",
      "0099.111777244.333....5555.6666.....8888..\n",
      "0099.111777244.333....5555.6666.....8888..\n",
      "00992111777.44.333....5555.6666.....8888..\n",
      "00992111777.44.333....5555.6666.....8888..\n",
      "00992111777.44.333....5555.6666.....8888..\n",
      "00992111777.44.333....5555.6666.....8888..\n"
     ]
    },
    {
     "data": {
      "text/plain": [
       "True"
      ]
     },
     "execution_count": 165,
     "metadata": {},
     "output_type": "execute_result"
    }
   ],
   "source": [
    "solution_b(puzzle.examples[0].input_data)[1].strip(\".\") == \"00992111777.44.333....5555.6666.....8888\""
   ]
  },
  {
   "cell_type": "code",
   "execution_count": 168,
   "metadata": {},
   "outputs": [],
   "source": [
    "assert solution_b(puzzle.examples[0].input_data)[2] == 2858"
   ]
  },
  {
   "cell_type": "code",
   "execution_count": null,
   "metadata": {},
   "outputs": [],
   "source": [
    "answer_b = solution_b(puzzle.input_data)\n",
    "answer_b"
   ]
  },
  {
   "cell_type": "code",
   "execution_count": 170,
   "metadata": {},
   "outputs": [
    {
     "name": "stdout",
     "output_type": "stream",
     "text": [
      "\u001b[32mThat's the right answer!  You are one gold star closer to finding the Chief Historian.You have completed Day 9! You can [Shareon\n",
      "  Bluesky\n",
      "Twitter\n",
      "Mastodon] this victory or [Return to Your Advent Calendar].\u001b[0m\n"
     ]
    }
   ],
   "source": [
    "puzzle.answer_b = answer_b[2]"
   ]
  }
 ],
 "metadata": {
  "kernelspec": {
   "display_name": "Python 3 (ipykernel)",
   "language": "python",
   "name": "python3"
  },
  "language_info": {
   "codemirror_mode": {
    "name": "ipython",
    "version": 3
   },
   "file_extension": ".py",
   "mimetype": "text/x-python",
   "name": "python",
   "nbconvert_exporter": "python",
   "pygments_lexer": "ipython3",
   "version": "3.10.14"
  },
  "widgets": {
   "application/vnd.jupyter.widget-state+json": {
    "state": {},
    "version_major": 2,
    "version_minor": 0
   }
  }
 },
 "nbformat": 4,
 "nbformat_minor": 4
}
